{
 "cells": [
  {
   "cell_type": "markdown",
   "metadata": {
    "slideshow": {
     "slide_type": "slide"
    }
   },
   "source": [
    "# CS-174A Discussion 1B, Week 0\n",
    "\n",
    "@ Yunqi Guo\n",
    "\n",
    "@ DODD 161 / Friday / 12:00pm-1:50pm"
   ]
  },
  {
   "cell_type": "markdown",
   "metadata": {
    "slideshow": {
     "slide_type": "slide"
    }
   },
   "source": [
    "## Outline\n",
    "\n",
    "- About this course\n",
    "- JavaScript and WebGL Basic\n",
    "- Assignment 1"
   ]
  },
  {
   "cell_type": "markdown",
   "metadata": {
    "slideshow": {
     "slide_type": "slide"
    }
   },
   "source": [
    "## CS-174A Introduction\n",
    "\n",
    "\n",
    "### About Me: \n",
    "\n",
    "- Yunqi Guo, Ph.D student in Computer Science\n",
    "\n",
    "- Office hours: Eng-VI 396, Tuesday 9:00 - 11:00 AM\n",
    "\n",
    "- Email: guoyunqi@gmail.com"
   ]
  },
  {
   "cell_type": "markdown",
   "metadata": {
    "slideshow": {
     "slide_type": "subslide"
    }
   },
   "source": [
    "### Grading Policies\n",
    "\n",
    "- Homework x 4"
   ]
  },
  {
   "cell_type": "markdown",
   "metadata": {
    "slideshow": {
     "slide_type": "slide"
    }
   },
   "source": [
    "## JavaScript 101\n",
    "\n",
    "JavaScript can change HTML content"
   ]
  },
  {
   "cell_type": "code",
   "execution_count": 31,
   "metadata": {
    "slideshow": {
     "slide_type": "fragment"
    }
   },
   "outputs": [
    {
     "data": {
      "text/html": [
       "<p id=\"demo\">JavaScript can change HTML content.</p>\n",
       "<button type=\"button\" onclick='document.getElementById(\"demo\").innerHTML = \"Hello JavaScript!\"'>Click Me!</button>\n"
      ],
      "text/plain": [
       "<IPython.core.display.HTML object>"
      ]
     },
     "metadata": {},
     "output_type": "display_data"
    }
   ],
   "source": [
    "%%html\n",
    "<p id=\"demo\">JavaScript can change HTML content.</p>\n",
    "<button type=\"button\" onclick='document.getElementById(\"demo\").innerHTML = \"Hello JavaScript!\"'>Click Me!</button>"
   ]
  },
  {
   "cell_type": "markdown",
   "metadata": {
    "slideshow": {
     "slide_type": "subslide"
    }
   },
   "source": [
    "### Variables and Data types\n",
    "\n",
    "JavaScript variables can hold many **data types**: numbers, strings, objects and more:\n",
    "```js\n",
    "var length = 16;                               // Number\n",
    "var lastName = \"Johnson\";                      // String\n",
    "var x = {firstName:\"John\", lastName:\"Doe\"};    // Object\n",
    "```\n"
   ]
  },
  {
   "cell_type": "code",
   "execution_count": 23,
   "metadata": {
    "slideshow": {
     "slide_type": "fragment"
    }
   },
   "outputs": [
    {
     "data": {
      "application/javascript": [
       "var num = 16;                                  // Number\n",
       "var lastName = \"Johnson\";                      // String\n",
       "var x = {firstName:\"John\", lastName:\"Doe\"};    // Object\n",
       "\n",
       "element.text(\"The number is \" + num)\n"
      ],
      "text/plain": [
       "<IPython.core.display.Javascript object>"
      ]
     },
     "metadata": {},
     "output_type": "display_data"
    }
   ],
   "source": [
    "%%js\n",
    "var num = 16;                                  // Number\n",
    "var lastName = \"Johnson\";                      // String\n",
    "var x = {firstName:\"John\", lastName:\"Doe\"};    // Object\n",
    "\n",
    "element.text(\"The number is \" + num)"
   ]
  },
  {
   "cell_type": "markdown",
   "metadata": {
    "slideshow": {
     "slide_type": "subslide"
    }
   },
   "source": [
    "### Objects\n",
    "\n",
    "You define (and create) a JavaScript object with an object literal:\n",
    "\n",
    "```js\n",
    "var person = {firstName:\"John\", lastName:\"Doe\", age:50, eyeColor:\"blue\"};\n",
    "```"
   ]
  },
  {
   "cell_type": "code",
   "execution_count": 25,
   "metadata": {
    "slideshow": {
     "slide_type": "fragment"
    }
   },
   "outputs": [
    {
     "data": {
      "application/javascript": [
       "var person = {firstName:\"John\", lastName:\"Doe\", age:50, eyeColor:\"blue\"};\n",
       "element.text(person.firstName + \"'s age is \" + person[\"age\"]);  // two ways for accessing the property of an object\n"
      ],
      "text/plain": [
       "<IPython.core.display.Javascript object>"
      ]
     },
     "metadata": {},
     "output_type": "display_data"
    }
   ],
   "source": [
    "%%js\n",
    "var person = {firstName:\"John\", lastName:\"Doe\", age:50, eyeColor:\"blue\"};\n",
    "element.text(person.firstName + \"'s age is \" + person[\"age\"]);  // two ways for accessing the property of an object"
   ]
  },
  {
   "cell_type": "markdown",
   "metadata": {
    "slideshow": {
     "slide_type": "subslide"
    }
   },
   "source": [
    "### Functions\n",
    "\n",
    "A JavaScript function is a block of code designed to perform a particular task.\n",
    "\n",
    "A JavaScript function is executed when \"something\" invokes it (calls it)."
   ]
  },
  {
   "cell_type": "code",
   "execution_count": 22,
   "metadata": {
    "slideshow": {
     "slide_type": "fragment"
    }
   },
   "outputs": [
    {
     "data": {
      "application/javascript": [
       "function myFunction(p1, p2) {\n",
       "  return p1 * p2;   // The function returns the product of p1 and p2\n",
       "}\n",
       "\n",
       "var a = 3;\n",
       "var b = 4;\n",
       "element.text(\"The product of a and b is \" + myFunction(a,b))\n"
      ],
      "text/plain": [
       "<IPython.core.display.Javascript object>"
      ]
     },
     "metadata": {},
     "output_type": "display_data"
    }
   ],
   "source": [
    "%%js\n",
    "function myFunction(p1, p2) {\n",
    "  return p1 * p2;   // The function returns the product of p1 and p2\n",
    "}\n",
    "\n",
    "var a = 3;\n",
    "var b = 4;\n",
    "element.text(\"The product of a and b is \" + myFunction(a,b))"
   ]
  },
  {
   "cell_type": "markdown",
   "metadata": {
    "slideshow": {
     "slide_type": "subslide"
    }
   },
   "source": [
    "### Object Methods\n"
   ]
  },
  {
   "cell_type": "code",
   "execution_count": 30,
   "metadata": {
    "slideshow": {
     "slide_type": "-"
    }
   },
   "outputs": [
    {
     "data": {
      "application/javascript": [
       "var person = {\n",
       "  firstName: \"John\",\n",
       "  lastName : \"Doe\",\n",
       "  id       : 5566,\n",
       "  fullName : function() {\n",
       "    return this.firstName + \" \" + this.lastName;\n",
       "  }\n",
       "};\n",
       "element.text(person.fullName())\n"
      ],
      "text/plain": [
       "<IPython.core.display.Javascript object>"
      ]
     },
     "metadata": {},
     "output_type": "display_data"
    }
   ],
   "source": [
    "%%js\n",
    "var person = {\n",
    "  firstName: \"John\",\n",
    "  lastName : \"Doe\",\n",
    "  id       : 5566,\n",
    "  fullName : function() {\n",
    "    return this.firstName + \" \" + this.lastName;\n",
    "  }\n",
    "};\n",
    "element.text(person.fullName())"
   ]
  },
  {
   "cell_type": "markdown",
   "metadata": {
    "slideshow": {
     "slide_type": "subslide"
    }
   },
   "source": [
    "### Object Constructors"
   ]
  },
  {
   "cell_type": "code",
   "execution_count": 35,
   "metadata": {},
   "outputs": [
    {
     "data": {
      "application/javascript": [
       "function Person(first, last, age, eye) {\n",
       "  this.firstName = first;\n",
       "  this.lastName = last;\n",
       "  this.age = age;\n",
       "  this.eyeColor = eye;\n",
       "}\n",
       "\n",
       "var myFather = new Person(\"John\", \"Doe\", 50, \"blue\");\n",
       "\n",
       "element.text(\"My father is \" + myFather.firstName + \" \" + myFather.lastName + \".\")\n"
      ],
      "text/plain": [
       "<IPython.core.display.Javascript object>"
      ]
     },
     "metadata": {},
     "output_type": "display_data"
    }
   ],
   "source": [
    "%%js\n",
    "function Person(first, last, age, eye) {\n",
    "  this.firstName = first;\n",
    "  this.lastName = last;\n",
    "  this.age = age;\n",
    "  this.eyeColor = eye;\n",
    "}\n",
    "\n",
    "var myFather = new Person(\"John\", \"Doe\", 50, \"blue\");\n",
    "\n",
    "element.text(\"My father is \" + myFather.firstName + \" \" + myFather.lastName + \".\")"
   ]
  },
  {
   "cell_type": "markdown",
   "metadata": {
    "slideshow": {
     "slide_type": "slide"
    }
   },
   "source": [
    "## WebGL Basics\n",
    "\n"
   ]
  },
  {
   "cell_type": "code",
   "execution_count": null,
   "metadata": {},
   "outputs": [],
   "source": []
  }
 ],
 "metadata": {
  "celltoolbar": "Slideshow",
  "kernelspec": {
   "display_name": "Python 3",
   "language": "python",
   "name": "python3"
  },
  "language_info": {
   "codemirror_mode": {
    "name": "ipython",
    "version": 3
   },
   "file_extension": ".py",
   "mimetype": "text/x-python",
   "name": "python",
   "nbconvert_exporter": "python",
   "pygments_lexer": "ipython3",
   "version": "3.7.4"
  }
 },
 "nbformat": 4,
 "nbformat_minor": 2
}
